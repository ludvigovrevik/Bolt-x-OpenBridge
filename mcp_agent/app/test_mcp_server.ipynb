{
 "cells": [
  {
   "cell_type": "code",
   "execution_count": 37,
   "id": "b0a19c46",
   "metadata": {},
   "outputs": [],
   "source": [
    "from dotenv import load_dotenv\n",
    "import os\n",
    "\n",
    "load_dotenv()\n",
    "\n",
    "OPENAI_API_KEY = os.getenv(\"OPENAI_API_KEY\")"
   ]
  },
  {
   "cell_type": "code",
   "execution_count": 38,
   "id": "a0b722f7",
   "metadata": {},
   "outputs": [],
   "source": [
    "# # --- MCP Resources ---\n",
    "# @mcp.resource(\"frameworks://supported\")\n",
    "# def supported_frameworks() -> List[str]:\n",
    "#     \"\"\"Get list of supported frameworks\"\"\"\n",
    "#     return [\"react\", \"vue\", \"angular\", \"svelte\"]\n",
    "# \n",
    "# @mcp.resource(\"examples://descriptions/{framework}\")\n",
    "# def framework_examples(framework: str) -> List[str]:\n",
    "#     \"\"\"Get example app descriptions for a specific framework\"\"\"\n",
    "#     examples = {\n",
    "#         \"react\": [\n",
    "#             \"Todo app with local storage\",\n",
    "#             \"Weather dashboard with API integration\",\n",
    "#             \"E-commerce product page with cart functionality\"\n",
    "#         ],\n",
    "#         \"vue\": [\n",
    "#             \"Blog with markdown support\",\n",
    "#             \"Task management app with drag-and-drop\",\n",
    "#             \"Real-time chat interface\"\n",
    "#         ]\n",
    "#     }\n",
    "#     return examples.get(framework.lower(), [\"No examples available\"])"
   ]
  },
  {
   "cell_type": "code",
   "execution_count": 39,
   "id": "3f2f0dee",
   "metadata": {},
   "outputs": [],
   "source": [
    "import asyncio\n",
    "from langchain_mcp_tools import convert_mcp_to_langchain_tools\n",
    "from langchain.agents import AgentExecutor\n",
    "from langchain.chat_models import init_chat_model\n",
    "from langgraph.prebuilt import create_react_agent\n",
    "\n",
    "async def main():\n",
    "    # Define the MCP servers\n",
    "    mcp_servers = {\n",
    "        \"app_generator\": {\n",
    "            \"command\": \"python\",\n",
    "            \"args\": [\"bolt_app_generator.py\"]\n",
    "        }\n",
    "    }\n",
    "    \n",
    "    # Convert to LangChain tools\n",
    "    tools, cleanup = await convert_mcp_to_langchain_tools(mcp_servers)\n",
    "    \n",
    "    for tool in tools:\n",
    "        print(\"Available tool:\")\n",
    "        print(f\"- {tool.name}\")\n",
    "\n",
    "    try:\n",
    "        llm = init_chat_model(\n",
    "            model=\"gpt-4.1-nano\",\n",
    "            temperature=0.5,\n",
    "            openai_api_key=OPENAI_API_KEY\n",
    "        )\n",
    "        \n",
    "        # Create ReAct agent with proper system message\n",
    "        agent = create_react_agent(\n",
    "            model=llm, \n",
    "            tools=tools,\n",
    "            prompt=\"You are a helpful assistant that creates application scaffolds. Use the available tools to generate code based on user requests.\"\n",
    "        )\n",
    "        \n",
    "        # Run the agent\n",
    "        result = await agent.ainvoke({\n",
    "            \"messages\": \"Create a React dashboard for monitoring daily tasks. It should show tasks by priority and deadline.\"\n",
    "        })\n",
    "        \n",
    "        print(\"Agent response:\")\n",
    "        \n",
    "    finally:\n",
    "        # Clean up MCP servers\n",
    "        await cleanup()"
   ]
  },
  {
   "cell_type": "code",
   "execution_count": 40,
   "id": "a034535a",
   "metadata": {},
   "outputs": [
    {
     "name": "stderr",
     "output_type": "stream",
     "text": [
      "\u001b[90m[INFO]\u001b[0m MCP server \"app_generator\": initializing with: {'command': 'python', 'args': ['bolt_app_generator.py']}\n",
      "\u001b[90m[INFO]\u001b[0m MCP server \"app_generator\": connected\n",
      "\u001b[90m[INFO]\u001b[0m MCP server \"app_generator\": 1 tool(s) available:\n",
      "\u001b[90m[INFO]\u001b[0m - generate_app_as_xml\n",
      "\u001b[90m[INFO]\u001b[0m MCP servers initialized: 1 tool(s) available in total\n"
     ]
    },
    {
     "name": "stdout",
     "output_type": "stream",
     "text": [
      "Available tool:\n",
      "- generate_app_as_xml\n"
     ]
    },
    {
     "name": "stderr",
     "output_type": "stream",
     "text": [
      "\u001b[90m[INFO]\u001b[0m HTTP Request: POST https://api.openai.com/v1/chat/completions \"HTTP/1.1 200 OK\"\n",
      "\u001b[90m[INFO]\u001b[0m MCP tool \"app_generator\"/\"generate_app_as_xml\" received input: {'description': 'A React dashboard for monitoring daily tasks, showing tasks categorized by priority and deadline.', 'framework': 'react'}\n",
      "\u001b[90m[INFO]\u001b[0m MCP tool \"app_generator\"/\"generate_app_as_xml\" received result (size: 4578)\n",
      "\u001b[90m[INFO]\u001b[0m HTTP Request: POST https://api.openai.com/v1/chat/completions \"HTTP/1.1 200 OK\"\n",
      "\u001b[90m[INFO]\u001b[0m MCP server \"app_generator\": session closed\n"
     ]
    },
    {
     "name": "stdout",
     "output_type": "stream",
     "text": [
      "Agent response:\n"
     ]
    }
   ],
   "source": [
    "result = await main()"
   ]
  },
  {
   "cell_type": "code",
   "execution_count": 42,
   "id": "d66ee2cc",
   "metadata": {},
   "outputs": [],
   "source": [
    "result"
   ]
  }
 ],
 "metadata": {
  "kernelspec": {
   "display_name": ".myvenv",
   "language": "python",
   "name": "python3"
  },
  "language_info": {
   "codemirror_mode": {
    "name": "ipython",
    "version": 3
   },
   "file_extension": ".py",
   "mimetype": "text/x-python",
   "name": "python",
   "nbconvert_exporter": "python",
   "pygments_lexer": "ipython3",
   "version": "3.11.11"
  }
 },
 "nbformat": 4,
 "nbformat_minor": 5
}
